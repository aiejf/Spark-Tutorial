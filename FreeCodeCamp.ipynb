{
 "cells": [
  {
   "cell_type": "markdown",
   "metadata": {},
   "source": [
    "## Tutorial 1 : Basics"
   ]
  },
  {
   "cell_type": "code",
   "execution_count": 1,
   "metadata": {},
   "outputs": [],
   "source": [
    "import pyspark"
   ]
  },
  {
   "cell_type": "code",
   "execution_count": 3,
   "metadata": {},
   "outputs": [
    {
     "data": {
      "text/html": [
       "<div>\n",
       "<style scoped>\n",
       "    .dataframe tbody tr th:only-of-type {\n",
       "        vertical-align: middle;\n",
       "    }\n",
       "\n",
       "    .dataframe tbody tr th {\n",
       "        vertical-align: top;\n",
       "    }\n",
       "\n",
       "    .dataframe thead th {\n",
       "        text-align: right;\n",
       "    }\n",
       "</style>\n",
       "<table border=\"1\" class=\"dataframe\">\n",
       "  <thead>\n",
       "    <tr style=\"text-align: right;\">\n",
       "      <th></th>\n",
       "      <th>Name</th>\n",
       "      <th>Age</th>\n",
       "    </tr>\n",
       "  </thead>\n",
       "  <tbody>\n",
       "    <tr>\n",
       "      <th>0</th>\n",
       "      <td>JF</td>\n",
       "      <td>38</td>\n",
       "    </tr>\n",
       "    <tr>\n",
       "      <th>1</th>\n",
       "      <td>Tina</td>\n",
       "      <td>35</td>\n",
       "    </tr>\n",
       "    <tr>\n",
       "      <th>2</th>\n",
       "      <td>Noah</td>\n",
       "      <td>3</td>\n",
       "    </tr>\n",
       "    <tr>\n",
       "      <th>3</th>\n",
       "      <td>Wendyam</td>\n",
       "      <td>2</td>\n",
       "    </tr>\n",
       "  </tbody>\n",
       "</table>\n",
       "</div>"
      ],
      "text/plain": [
       "      Name  Age\n",
       "0       JF   38\n",
       "1     Tina   35\n",
       "2     Noah    3\n",
       "3  Wendyam    2"
      ]
     },
     "execution_count": 3,
     "metadata": {},
     "output_type": "execute_result"
    }
   ],
   "source": [
    "import pandas as pd\n",
    "pd.read_csv('test1.csv')"
   ]
  },
  {
   "cell_type": "code",
   "execution_count": 4,
   "metadata": {},
   "outputs": [],
   "source": [
    "from pyspark.sql import SparkSession\n",
    "spark=SparkSession.builder.appName('Practice').getOrCreate()"
   ]
  },
  {
   "cell_type": "code",
   "execution_count": 5,
   "metadata": {},
   "outputs": [
    {
     "data": {
      "text/html": [
       "\n",
       "            <div>\n",
       "                <p><b>SparkSession - in-memory</b></p>\n",
       "                \n",
       "        <div>\n",
       "            <p><b>SparkContext</b></p>\n",
       "\n",
       "            <p><a href=\"http://host.docker.internal:4040\">Spark UI</a></p>\n",
       "\n",
       "            <dl>\n",
       "              <dt>Version</dt>\n",
       "                <dd><code>v3.5.3</code></dd>\n",
       "              <dt>Master</dt>\n",
       "                <dd><code>local[*]</code></dd>\n",
       "              <dt>AppName</dt>\n",
       "                <dd><code>Practice</code></dd>\n",
       "            </dl>\n",
       "        </div>\n",
       "        \n",
       "            </div>\n",
       "        "
      ],
      "text/plain": [
       "<pyspark.sql.session.SparkSession at 0x1ae894b66c0>"
      ]
     },
     "execution_count": 5,
     "metadata": {},
     "output_type": "execute_result"
    }
   ],
   "source": [
    "spark"
   ]
  },
  {
   "cell_type": "code",
   "execution_count": null,
   "metadata": {},
   "outputs": [],
   "source": [
    "df_pyspark=spark.read.csv('test1.csv')"
   ]
  },
  {
   "cell_type": "code",
   "execution_count": 8,
   "metadata": {},
   "outputs": [
    {
     "name": "stdout",
     "output_type": "stream",
     "text": [
      "+-------+---+\n",
      "|    _c0|_c1|\n",
      "+-------+---+\n",
      "|   Name|Age|\n",
      "|     JF| 38|\n",
      "|   Tina| 35|\n",
      "|   Noah|  3|\n",
      "|Wendyam|  2|\n",
      "+-------+---+\n",
      "\n"
     ]
    }
   ],
   "source": [
    "df_pyspark.show()"
   ]
  },
  {
   "cell_type": "code",
   "execution_count": 12,
   "metadata": {},
   "outputs": [
    {
     "name": "stdout",
     "output_type": "stream",
     "text": [
      "+-------+---+\n",
      "|   Name|Age|\n",
      "+-------+---+\n",
      "|     JF| 38|\n",
      "|   Tina| 35|\n",
      "|   Noah|  3|\n",
      "|Wendyam|  2|\n",
      "+-------+---+\n",
      "\n"
     ]
    }
   ],
   "source": [
    "df_pyspark=spark.read.option('header','true').csv('test1.csv', inferSchema=True)\n",
    "df_pyspark.show()"
   ]
  },
  {
   "cell_type": "code",
   "execution_count": 13,
   "metadata": {},
   "outputs": [
    {
     "data": {
      "text/plain": [
       "pyspark.sql.dataframe.DataFrame"
      ]
     },
     "execution_count": 13,
     "metadata": {},
     "output_type": "execute_result"
    }
   ],
   "source": [
    "type(df_pyspark)"
   ]
  },
  {
   "cell_type": "code",
   "execution_count": 11,
   "metadata": {},
   "outputs": [
    {
     "name": "stdout",
     "output_type": "stream",
     "text": [
      "+----+---+\n",
      "|Name|Age|\n",
      "+----+---+\n",
      "|  JF| 38|\n",
      "|Tina| 35|\n",
      "+----+---+\n",
      "only showing top 2 rows\n",
      "\n"
     ]
    }
   ],
   "source": [
    "df_pyspark.show(2)"
   ]
  },
  {
   "cell_type": "markdown",
   "metadata": {},
   "source": [
    "## Tutorial 2: Pyspark DataFrames"
   ]
  },
  {
   "cell_type": "code",
   "execution_count": 14,
   "metadata": {},
   "outputs": [
    {
     "name": "stdout",
     "output_type": "stream",
     "text": [
      "root\n",
      " |-- Name: string (nullable = true)\n",
      " |-- Age: integer (nullable = true)\n",
      "\n"
     ]
    }
   ],
   "source": [
    "df_pyspark.printSchema()"
   ]
  },
  {
   "cell_type": "code",
   "execution_count": 15,
   "metadata": {},
   "outputs": [
    {
     "name": "stdout",
     "output_type": "stream",
     "text": [
      "+-------+---+\n",
      "|   Name|Age|\n",
      "+-------+---+\n",
      "|     JF| 38|\n",
      "|   Tina| 35|\n",
      "|   Noah|  3|\n",
      "|Wendyam|  2|\n",
      "+-------+---+\n",
      "\n"
     ]
    }
   ],
   "source": [
    "df_pyspark=spark.read.csv('test1.csv',header=True, inferSchema=True)\n",
    "df_pyspark.show()"
   ]
  },
  {
   "cell_type": "code",
   "execution_count": 17,
   "metadata": {},
   "outputs": [
    {
     "data": {
      "text/plain": [
       "[Row(Name='JF', Age=38), Row(Name='Tina', Age=35), Row(Name='Noah', Age=3)]"
      ]
     },
     "execution_count": 17,
     "metadata": {},
     "output_type": "execute_result"
    }
   ],
   "source": [
    "df_pyspark.head(3)"
   ]
  },
  {
   "cell_type": "code",
   "execution_count": 21,
   "metadata": {},
   "outputs": [
    {
     "name": "stdout",
     "output_type": "stream",
     "text": [
      "+-------+\n",
      "|   Name|\n",
      "+-------+\n",
      "|     JF|\n",
      "|   Tina|\n",
      "|   Noah|\n",
      "|Wendyam|\n",
      "+-------+\n",
      "\n"
     ]
    }
   ],
   "source": [
    "df_pyspark.select('Name').show()"
   ]
  },
  {
   "cell_type": "code",
   "execution_count": 23,
   "metadata": {},
   "outputs": [
    {
     "name": "stdout",
     "output_type": "stream",
     "text": [
      "+-------+---+\n",
      "|   Name|Age|\n",
      "+-------+---+\n",
      "|     JF| 38|\n",
      "|   Tina| 35|\n",
      "|   Noah|  3|\n",
      "|Wendyam|  2|\n",
      "+-------+---+\n",
      "\n"
     ]
    }
   ],
   "source": [
    "df_pyspark.select(['Name','Age']).show()"
   ]
  },
  {
   "cell_type": "code",
   "execution_count": 24,
   "metadata": {},
   "outputs": [
    {
     "data": {
      "text/plain": [
       "[('Name', 'string'), ('Age', 'int')]"
      ]
     },
     "execution_count": 24,
     "metadata": {},
     "output_type": "execute_result"
    }
   ],
   "source": [
    "df_pyspark.dtypes"
   ]
  },
  {
   "cell_type": "code",
   "execution_count": 26,
   "metadata": {},
   "outputs": [
    {
     "name": "stdout",
     "output_type": "stream",
     "text": [
      "+-------+-------+---------------+\n",
      "|summary|   Name|            Age|\n",
      "+-------+-------+---------------+\n",
      "|  count|      4|              4|\n",
      "|   mean|   NULL|           19.5|\n",
      "| stddev|   NULL|19.672315572906|\n",
      "|    min|     JF|              2|\n",
      "|    max|Wendyam|             38|\n",
      "+-------+-------+---------------+\n",
      "\n"
     ]
    }
   ],
   "source": [
    "df_pyspark.describe().show()"
   ]
  },
  {
   "cell_type": "code",
   "execution_count": 27,
   "metadata": {},
   "outputs": [
    {
     "name": "stdout",
     "output_type": "stream",
     "text": [
      "+-------+---+---------------+\n",
      "|   Name|Age|Life Experience|\n",
      "+-------+---+---------------+\n",
      "|     JF| 38|             48|\n",
      "|   Tina| 35|             45|\n",
      "|   Noah|  3|             13|\n",
      "|Wendyam|  2|             12|\n",
      "+-------+---+---------------+\n",
      "\n"
     ]
    }
   ],
   "source": [
    "##adding colums\n",
    "df_pyspark.withColumn('Life Experience',df_pyspark['Age']+10).show()"
   ]
  },
  {
   "cell_type": "code",
   "execution_count": 28,
   "metadata": {},
   "outputs": [],
   "source": [
    "df_pyspark=df_pyspark.withColumn('Life Experience',df_pyspark['Age']+10)\n"
   ]
  },
  {
   "cell_type": "code",
   "execution_count": 29,
   "metadata": {},
   "outputs": [
    {
     "name": "stdout",
     "output_type": "stream",
     "text": [
      "+-------+---+---------------+\n",
      "|   Name|Age|Life Experience|\n",
      "+-------+---+---------------+\n",
      "|     JF| 38|             48|\n",
      "|   Tina| 35|             45|\n",
      "|   Noah|  3|             13|\n",
      "|Wendyam|  2|             12|\n",
      "+-------+---+---------------+\n",
      "\n"
     ]
    }
   ],
   "source": [
    "df_pyspark.show()"
   ]
  },
  {
   "cell_type": "code",
   "execution_count": 30,
   "metadata": {},
   "outputs": [
    {
     "name": "stdout",
     "output_type": "stream",
     "text": [
      "+-------+---+\n",
      "|   Name|Age|\n",
      "+-------+---+\n",
      "|     JF| 38|\n",
      "|   Tina| 35|\n",
      "|   Noah|  3|\n",
      "|Wendyam|  2|\n",
      "+-------+---+\n",
      "\n"
     ]
    }
   ],
   "source": [
    "#drop columns\n",
    "df_pyspark.drop('Life Experience').show()"
   ]
  },
  {
   "cell_type": "code",
   "execution_count": 33,
   "metadata": {},
   "outputs": [
    {
     "name": "stdout",
     "output_type": "stream",
     "text": [
      "+-------+---+---------------+\n",
      "|   Name|New|Life Experience|\n",
      "+-------+---+---------------+\n",
      "|     JF| 38|             48|\n",
      "|   Tina| 35|             45|\n",
      "|   Noah|  3|             13|\n",
      "|Wendyam|  2|             12|\n",
      "+-------+---+---------------+\n",
      "\n"
     ]
    }
   ],
   "source": [
    "### Rename columns\n",
    "df_pyspark.withColumnRenamed('Age','New').show()"
   ]
  },
  {
   "cell_type": "markdown",
   "metadata": {},
   "source": [
    "## Tutorial 3 : handling missing values and formating"
   ]
  },
  {
   "cell_type": "code",
   "execution_count": 34,
   "metadata": {},
   "outputs": [],
   "source": [
    "df_pyspark=spark.read.csv('text2.csv', header=True, inferSchema=True)"
   ]
  },
  {
   "cell_type": "code",
   "execution_count": 35,
   "metadata": {},
   "outputs": [
    {
     "name": "stdout",
     "output_type": "stream",
     "text": [
      "+-------+----+-----------+------+\n",
      "|   Name| Age|Experience |Salary|\n",
      "+-------+----+-----------+------+\n",
      "|   john|  31|         10|150000|\n",
      "|     jf|  28|          9|167000|\n",
      "|  wendy|  25|          3| 98000|\n",
      "|   sidd|  40|         10|100000|\n",
      "|  vyoma|  45|         15|198000|\n",
      "|abinaya|  20|          2| 80000|\n",
      "| esdras|NULL|       NULL|150000|\n",
      "|  mussa|  17|          1| 60000|\n",
      "|   kyky|  22|          3| 55000|\n",
      "|   NULL|  18|       NULL| 25000|\n",
      "|   NULL|  23|          4|  NULL|\n",
      "+-------+----+-----------+------+\n",
      "\n"
     ]
    }
   ],
   "source": [
    "df_pyspark.show()"
   ]
  },
  {
   "cell_type": "code",
   "execution_count": 36,
   "metadata": {},
   "outputs": [
    {
     "name": "stdout",
     "output_type": "stream",
     "text": [
      "+-------+---+-----------+------+\n",
      "|   Name|Age|Experience |Salary|\n",
      "+-------+---+-----------+------+\n",
      "|   john| 31|         10|150000|\n",
      "|     jf| 28|          9|167000|\n",
      "|  wendy| 25|          3| 98000|\n",
      "|   sidd| 40|         10|100000|\n",
      "|  vyoma| 45|         15|198000|\n",
      "|abinaya| 20|          2| 80000|\n",
      "|  mussa| 17|          1| 60000|\n",
      "|   kyky| 22|          3| 55000|\n",
      "+-------+---+-----------+------+\n",
      "\n"
     ]
    }
   ],
   "source": [
    "#remove missing values\n",
    "df_pyspark.na.drop().show()"
   ]
  },
  {
   "cell_type": "code",
   "execution_count": 38,
   "metadata": {},
   "outputs": [
    {
     "name": "stdout",
     "output_type": "stream",
     "text": [
      "+-------+---+-----------+------+\n",
      "|   Name|Age|Experience |Salary|\n",
      "+-------+---+-----------+------+\n",
      "|   john| 31|         10|150000|\n",
      "|     jf| 28|          9|167000|\n",
      "|  wendy| 25|          3| 98000|\n",
      "|   sidd| 40|         10|100000|\n",
      "|  vyoma| 45|         15|198000|\n",
      "|abinaya| 20|          2| 80000|\n",
      "|  mussa| 17|          1| 60000|\n",
      "|   kyky| 22|          3| 55000|\n",
      "+-------+---+-----------+------+\n",
      "\n"
     ]
    }
   ],
   "source": [
    "#remove missing values\n",
    "df_pyspark.na.drop(how='any').show()"
   ]
  },
  {
   "cell_type": "code",
   "execution_count": 41,
   "metadata": {},
   "outputs": [
    {
     "name": "stdout",
     "output_type": "stream",
     "text": [
      "+-------+---+-----------+------+\n",
      "|   Name|Age|Experience |Salary|\n",
      "+-------+---+-----------+------+\n",
      "|   john| 31|         10|150000|\n",
      "|     jf| 28|          9|167000|\n",
      "|  wendy| 25|          3| 98000|\n",
      "|   sidd| 40|         10|100000|\n",
      "|  vyoma| 45|         15|198000|\n",
      "|abinaya| 20|          2| 80000|\n",
      "|  mussa| 17|          1| 60000|\n",
      "|   kyky| 22|          3| 55000|\n",
      "+-------+---+-----------+------+\n",
      "\n"
     ]
    }
   ],
   "source": [
    "#threshold\n",
    "df_pyspark.na.drop(how='any',thresh=3).show()"
   ]
  },
  {
   "cell_type": "code",
   "execution_count": 43,
   "metadata": {},
   "outputs": [
    {
     "name": "stdout",
     "output_type": "stream",
     "text": [
      "+-------+---+-----------+------+\n",
      "|   Name|Age|Experience |Salary|\n",
      "+-------+---+-----------+------+\n",
      "|   john| 31|         10|150000|\n",
      "|     jf| 28|          9|167000|\n",
      "|  wendy| 25|          3| 98000|\n",
      "|   sidd| 40|         10|100000|\n",
      "|  vyoma| 45|         15|198000|\n",
      "|abinaya| 20|          2| 80000|\n",
      "|  mussa| 17|          1| 60000|\n",
      "|   kyky| 22|          3| 55000|\n",
      "|   NULL| 23|          4|  NULL|\n",
      "+-------+---+-----------+------+\n",
      "\n"
     ]
    }
   ],
   "source": [
    "#subset\n",
    "df_pyspark.na.drop(how='any',subset=['Experience ']).show()"
   ]
  },
  {
   "cell_type": "code",
   "execution_count": 44,
   "metadata": {},
   "outputs": [
    {
     "name": "stdout",
     "output_type": "stream",
     "text": [
      "+-------+----+-----------+------+\n",
      "|   Name| Age|Experience |Salary|\n",
      "+-------+----+-----------+------+\n",
      "|   john|  31|         10|150000|\n",
      "|     jf|  28|          9|167000|\n",
      "|  wendy|  25|          3| 98000|\n",
      "|   sidd|  40|         10|100000|\n",
      "|  vyoma|  45|         15|198000|\n",
      "|abinaya|  20|          2| 80000|\n",
      "| esdras|NULL|       NULL|150000|\n",
      "|  mussa|  17|          1| 60000|\n",
      "|   kyky|  22|          3| 55000|\n",
      "|    N/A|  18|       NULL| 25000|\n",
      "|    N/A|  23|          4|  NULL|\n",
      "+-------+----+-----------+------+\n",
      "\n"
     ]
    }
   ],
   "source": [
    "#Filling the missing values\n",
    "df_pyspark.na.fill('N/A').show()"
   ]
  },
  {
   "cell_type": "code",
   "execution_count": 45,
   "metadata": {},
   "outputs": [
    {
     "name": "stdout",
     "output_type": "stream",
     "text": [
      "+-------+----+-----------+------+\n",
      "|   Name| Age|Experience |Salary|\n",
      "+-------+----+-----------+------+\n",
      "|   john|  31|         10|150000|\n",
      "|     jf|  28|          9|167000|\n",
      "|  wendy|  25|          3| 98000|\n",
      "|   sidd|  40|         10|100000|\n",
      "|  vyoma|  45|         15|198000|\n",
      "|abinaya|  20|          2| 80000|\n",
      "| esdras|NULL|       NULL|150000|\n",
      "|  mussa|  17|          1| 60000|\n",
      "|   kyky|  22|          3| 55000|\n",
      "|   NULL|  18|       NULL| 25000|\n",
      "|   NULL|  23|          4|  NULL|\n",
      "+-------+----+-----------+------+\n",
      "\n"
     ]
    }
   ],
   "source": [
    "df_pyspark.na.fill('N/A',['Age']).show()"
   ]
  },
  {
   "cell_type": "code",
   "execution_count": 46,
   "metadata": {},
   "outputs": [
    {
     "data": {
      "text/plain": [
       "['Name', 'Age', 'Experience ', 'Salary']"
      ]
     },
     "execution_count": 46,
     "metadata": {},
     "output_type": "execute_result"
    }
   ],
   "source": [
    "df_pyspark.columns"
   ]
  },
  {
   "cell_type": "code",
   "execution_count": 47,
   "metadata": {},
   "outputs": [
    {
     "name": "stdout",
     "output_type": "stream",
     "text": [
      "root\n",
      " |-- Name: string (nullable = true)\n",
      " |-- Age: integer (nullable = true)\n",
      " |-- Experience : integer (nullable = true)\n",
      " |-- Salary: integer (nullable = true)\n",
      "\n"
     ]
    }
   ],
   "source": [
    "df_pyspark.printSchema()"
   ]
  },
  {
   "cell_type": "code",
   "execution_count": 50,
   "metadata": {},
   "outputs": [],
   "source": [
    "#fill missing values with median, mean, ....\n",
    "from pyspark.ml.feature import Imputer\n",
    "\n",
    "imputer = Imputer(\n",
    "\n",
    "    inputCols=['Age', 'Experience ', 'Salary'],\n",
    "    outputCols=[\"{}_imputed\".format(c) for c in ['Age', 'Experience ', 'Salary']]\n",
    ").setStrategy(\"mean\")"
   ]
  },
  {
   "cell_type": "code",
   "execution_count": 51,
   "metadata": {},
   "outputs": [
    {
     "name": "stdout",
     "output_type": "stream",
     "text": [
      "+-------+----+-----------+------+-----------+-------------------+--------------+\n",
      "|   Name| Age|Experience |Salary|Age_imputed|Experience _imputed|Salary_imputed|\n",
      "+-------+----+-----------+------+-----------+-------------------+--------------+\n",
      "|   john|  31|         10|150000|         31|                 10|        150000|\n",
      "|     jf|  28|          9|167000|         28|                  9|        167000|\n",
      "|  wendy|  25|          3| 98000|         25|                  3|         98000|\n",
      "|   sidd|  40|         10|100000|         40|                 10|        100000|\n",
      "|  vyoma|  45|         15|198000|         45|                 15|        198000|\n",
      "|abinaya|  20|          2| 80000|         20|                  2|         80000|\n",
      "| esdras|NULL|       NULL|150000|         26|                  6|        150000|\n",
      "|  mussa|  17|          1| 60000|         17|                  1|         60000|\n",
      "|   kyky|  22|          3| 55000|         22|                  3|         55000|\n",
      "|   NULL|  18|       NULL| 25000|         18|                  6|         25000|\n",
      "|   NULL|  23|          4|  NULL|         23|                  4|        108300|\n",
      "+-------+----+-----------+------+-----------+-------------------+--------------+\n",
      "\n"
     ]
    }
   ],
   "source": [
    "imputer.fit(df_pyspark).transform(df_pyspark).show()"
   ]
  },
  {
   "cell_type": "code",
   "execution_count": 52,
   "metadata": {},
   "outputs": [],
   "source": [
    "spark=SparkSession.builder.appName('DataFrame').getOrCreate()"
   ]
  },
  {
   "cell_type": "code",
   "execution_count": 53,
   "metadata": {},
   "outputs": [],
   "source": [
    "df=spark.read.csv('text2.csv', header=True,inferSchema=True)"
   ]
  },
  {
   "cell_type": "markdown",
   "metadata": {},
   "source": [
    "## Filter operation"
   ]
  },
  {
   "cell_type": "code",
   "execution_count": 55,
   "metadata": {},
   "outputs": [
    {
     "name": "stdout",
     "output_type": "stream",
     "text": [
      "+-------+---+-----------+------+\n",
      "|   Name|Age|Experience |Salary|\n",
      "+-------+---+-----------+------+\n",
      "|  wendy| 25|          3| 98000|\n",
      "|   sidd| 40|         10|100000|\n",
      "|abinaya| 20|          2| 80000|\n",
      "|  mussa| 17|          1| 60000|\n",
      "|   kyky| 22|          3| 55000|\n",
      "|   NULL| 18|       NULL| 25000|\n",
      "+-------+---+-----------+------+\n",
      "\n"
     ]
    }
   ],
   "source": [
    "###Get salary less than 140K\n",
    "df.filter('Salary<=140000').show()"
   ]
  },
  {
   "cell_type": "code",
   "execution_count": 56,
   "metadata": {},
   "outputs": [
    {
     "name": "stdout",
     "output_type": "stream",
     "text": [
      "+-------+---+\n",
      "|   Name|Age|\n",
      "+-------+---+\n",
      "|  wendy| 25|\n",
      "|   sidd| 40|\n",
      "|abinaya| 20|\n",
      "|  mussa| 17|\n",
      "|   kyky| 22|\n",
      "|   NULL| 18|\n",
      "+-------+---+\n",
      "\n"
     ]
    }
   ],
   "source": [
    "###Get salary less than 140K for only name and agd\n",
    "df.filter('Salary<=140000').select(['Name','Age']).show()"
   ]
  },
  {
   "cell_type": "code",
   "execution_count": 57,
   "metadata": {},
   "outputs": [
    {
     "name": "stdout",
     "output_type": "stream",
     "text": [
      "+-------+---+\n",
      "|   Name|Age|\n",
      "+-------+---+\n",
      "|  wendy| 25|\n",
      "|   sidd| 40|\n",
      "|abinaya| 20|\n",
      "|  mussa| 17|\n",
      "|   kyky| 22|\n",
      "|   NULL| 18|\n",
      "+-------+---+\n",
      "\n"
     ]
    }
   ],
   "source": [
    "###Get salary less than 140K for only name and agd\n",
    "df.filter(df['Salary']<=140000).select(['Name','Age']).show()"
   ]
  },
  {
   "cell_type": "code",
   "execution_count": 59,
   "metadata": {},
   "outputs": [
    {
     "name": "stdout",
     "output_type": "stream",
     "text": [
      "+-----+---+\n",
      "| Name|Age|\n",
      "+-----+---+\n",
      "|wendy| 25|\n",
      "| sidd| 40|\n",
      "+-----+---+\n",
      "\n"
     ]
    }
   ],
   "source": [
    "df.filter((df['Salary']<=140000) & (df['Salary']>80000)).select(['Name','Age']).show()"
   ]
  },
  {
   "cell_type": "code",
   "execution_count": 61,
   "metadata": {},
   "outputs": [
    {
     "name": "stdout",
     "output_type": "stream",
     "text": [
      "+----+---+-----------+------+\n",
      "|Name|Age|Experience |Salary|\n",
      "+----+---+-----------+------+\n",
      "|sidd| 40|         10|100000|\n",
      "+----+---+-----------+------+\n",
      "\n"
     ]
    }
   ],
   "source": [
    "df.filter((df['Salary']<=140000) & (df['Age']>27)).show()"
   ]
  },
  {
   "cell_type": "markdown",
   "metadata": {},
   "source": [
    "## group by and aggregate functions"
   ]
  },
  {
   "cell_type": "code",
   "execution_count": 62,
   "metadata": {},
   "outputs": [
    {
     "data": {
      "text/html": [
       "\n",
       "            <div>\n",
       "                <p><b>SparkSession - in-memory</b></p>\n",
       "                \n",
       "        <div>\n",
       "            <p><b>SparkContext</b></p>\n",
       "\n",
       "            <p><a href=\"http://host.docker.internal:4040\">Spark UI</a></p>\n",
       "\n",
       "            <dl>\n",
       "              <dt>Version</dt>\n",
       "                <dd><code>v3.5.3</code></dd>\n",
       "              <dt>Master</dt>\n",
       "                <dd><code>local[*]</code></dd>\n",
       "              <dt>AppName</dt>\n",
       "                <dd><code>Practice</code></dd>\n",
       "            </dl>\n",
       "        </div>\n",
       "        \n",
       "            </div>\n",
       "        "
      ],
      "text/plain": [
       "<pyspark.sql.session.SparkSession at 0x1ae894b66c0>"
      ]
     },
     "execution_count": 62,
     "metadata": {},
     "output_type": "execute_result"
    }
   ],
   "source": [
    "spark"
   ]
  },
  {
   "cell_type": "code",
   "execution_count": 64,
   "metadata": {},
   "outputs": [
    {
     "name": "stdout",
     "output_type": "stream",
     "text": [
      "+-----+----------+------+\n",
      "| Name|Department|Salary|\n",
      "+-----+----------+------+\n",
      "|   jd|        AI| 54165|\n",
      "|vyoma|        DS|   656|\n",
      "| sidd|        DS|    65|\n",
      "|amesh|        AI|     2|\n",
      "|hudds|        AI|    68|\n",
      "|  bra|        DS|    65|\n",
      "| dfas|        tt|    65|\n",
      "| dfas|        tt|    32|\n",
      "|  dfd|        AI|   695|\n",
      "+-----+----------+------+\n",
      "\n"
     ]
    }
   ],
   "source": [
    "df=spark.read.csv('text3.csv',header=True,inferSchema=True)\n",
    "df.show()"
   ]
  },
  {
   "cell_type": "code",
   "execution_count": 65,
   "metadata": {},
   "outputs": [
    {
     "name": "stdout",
     "output_type": "stream",
     "text": [
      "root\n",
      " |-- Name: string (nullable = true)\n",
      " |-- Department: string (nullable = true)\n",
      " |-- Salary: integer (nullable = true)\n",
      "\n"
     ]
    }
   ],
   "source": [
    "df.printSchema()"
   ]
  },
  {
   "cell_type": "code",
   "execution_count": 67,
   "metadata": {},
   "outputs": [
    {
     "name": "stdout",
     "output_type": "stream",
     "text": [
      "+-----+-----------+\n",
      "| Name|sum(Salary)|\n",
      "+-----+-----------+\n",
      "|   jd|      54165|\n",
      "|hudds|         68|\n",
      "|  dfd|        695|\n",
      "|amesh|          2|\n",
      "| dfas|         97|\n",
      "|  bra|         65|\n",
      "|vyoma|        656|\n",
      "| sidd|         65|\n",
      "+-----+-----------+\n",
      "\n"
     ]
    }
   ],
   "source": [
    "#Group by Name \n",
    "df.groupBy(df['Name']).sum().show()"
   ]
  },
  {
   "cell_type": "code",
   "execution_count": 69,
   "metadata": {},
   "outputs": [
    {
     "name": "stdout",
     "output_type": "stream",
     "text": [
      "+----------+-----------+\n",
      "|Department|sum(Salary)|\n",
      "+----------+-----------+\n",
      "|        tt|         97|\n",
      "|        AI|      54930|\n",
      "|        DS|        786|\n",
      "+----------+-----------+\n",
      "\n"
     ]
    }
   ],
   "source": [
    "df.groupBy('Department').sum().show()"
   ]
  },
  {
   "cell_type": "code",
   "execution_count": 70,
   "metadata": {},
   "outputs": [
    {
     "name": "stdout",
     "output_type": "stream",
     "text": [
      "+----------+-----------+\n",
      "|Department|max(Salary)|\n",
      "+----------+-----------+\n",
      "|        tt|         65|\n",
      "|        AI|      54165|\n",
      "|        DS|        656|\n",
      "+----------+-----------+\n",
      "\n"
     ]
    }
   ],
   "source": [
    "df.groupBy('Department').max().show()"
   ]
  },
  {
   "cell_type": "code",
   "execution_count": 71,
   "metadata": {},
   "outputs": [
    {
     "name": "stdout",
     "output_type": "stream",
     "text": [
      "+----------+-----------+\n",
      "|Department|avg(Salary)|\n",
      "+----------+-----------+\n",
      "|        tt|       48.5|\n",
      "|        AI|    13732.5|\n",
      "|        DS|      262.0|\n",
      "+----------+-----------+\n",
      "\n"
     ]
    }
   ],
   "source": [
    "df.groupBy('Department').mean().show()"
   ]
  },
  {
   "cell_type": "code",
   "execution_count": 72,
   "metadata": {},
   "outputs": [
    {
     "name": "stdout",
     "output_type": "stream",
     "text": [
      "+----------+-----+\n",
      "|Department|count|\n",
      "+----------+-----+\n",
      "|        tt|    2|\n",
      "|        AI|    4|\n",
      "|        DS|    3|\n",
      "+----------+-----+\n",
      "\n"
     ]
    }
   ],
   "source": [
    "df.groupBy('Department').count().show()"
   ]
  },
  {
   "cell_type": "code",
   "execution_count": 73,
   "metadata": {},
   "outputs": [
    {
     "name": "stdout",
     "output_type": "stream",
     "text": [
      "+-----------+\n",
      "|sum(salary)|\n",
      "+-----------+\n",
      "|      55813|\n",
      "+-----------+\n",
      "\n"
     ]
    }
   ],
   "source": [
    "df.agg({'salary':'sum'}).show()"
   ]
  },
  {
   "cell_type": "code",
   "execution_count": 75,
   "metadata": {},
   "outputs": [
    {
     "name": "stdout",
     "output_type": "stream",
     "text": [
      "+----------+-----------+-----------+\n",
      "|Department|sum(salary)|count(Name)|\n",
      "+----------+-----------+-----------+\n",
      "|        tt|         97|          2|\n",
      "|        AI|      54930|          4|\n",
      "|        DS|        786|          3|\n",
      "+----------+-----------+-----------+\n",
      "\n"
     ]
    }
   ],
   "source": [
    "df.groupBy('Department').agg({'salary':'sum','Name':'count'}).show()"
   ]
  },
  {
   "cell_type": "code",
   "execution_count": 76,
   "metadata": {},
   "outputs": [
    {
     "name": "stdout",
     "output_type": "stream",
     "text": [
      "+-----+----------+------+\n",
      "| Name|Department|Salary|\n",
      "+-----+----------+------+\n",
      "|   jd|        AI| 54165|\n",
      "|vyoma|        DS|   656|\n",
      "| sidd|        DS|    65|\n",
      "|amesh|        AI|     2|\n",
      "|hudds|        AI|    68|\n",
      "|  bra|        DS|    65|\n",
      "| dfas|        tt|    65|\n",
      "| dfas|        tt|    32|\n",
      "|  dfd|        AI|   695|\n",
      "+-----+----------+------+\n",
      "\n"
     ]
    }
   ],
   "source": [
    "df.show()"
   ]
  },
  {
   "cell_type": "markdown",
   "metadata": {},
   "source": [
    "##  Pyspark ML"
   ]
  },
  {
   "cell_type": "code",
   "execution_count": 2,
   "metadata": {},
   "outputs": [],
   "source": [
    "from pyspark.sql import SparkSession\n",
    "spark=SparkSession.builder.appName('Missing').getOrCreate()"
   ]
  },
  {
   "cell_type": "code",
   "execution_count": 3,
   "metadata": {},
   "outputs": [
    {
     "name": "stdout",
     "output_type": "stream",
     "text": [
      "+-------+---+----------+------+\n",
      "|   Name|Age|Experience|Salary|\n",
      "+-------+---+----------+------+\n",
      "|   john| 50|        10| 35000|\n",
      "|   sidd| 32|        15| 55000|\n",
      "|  vyoma| 65|        20| 65000|\n",
      "|    pat| 30|         8|100000|\n",
      "|   tina| 22|         9|136562|\n",
      "|   noah| 66|        24|158322|\n",
      "|wendyam| 33|        10| 25000|\n",
      "| solame| 22|        10|158000|\n",
      "| esdras| 44|        20| 25651|\n",
      "|  elisa| 55|        23|241455|\n",
      "+-------+---+----------+------+\n",
      "\n"
     ]
    }
   ],
   "source": [
    "df=spark.read.csv('test_4.csv', header=True, inferSchema=True)\n",
    "df.show()"
   ]
  },
  {
   "cell_type": "code",
   "execution_count": 4,
   "metadata": {},
   "outputs": [
    {
     "name": "stdout",
     "output_type": "stream",
     "text": [
      "root\n",
      " |-- Name: string (nullable = true)\n",
      " |-- Age: integer (nullable = true)\n",
      " |-- Experience: integer (nullable = true)\n",
      " |-- Salary: integer (nullable = true)\n",
      "\n"
     ]
    }
   ],
   "source": [
    "df.printSchema()"
   ]
  },
  {
   "cell_type": "code",
   "execution_count": 5,
   "metadata": {},
   "outputs": [
    {
     "data": {
      "text/plain": [
       "['Name', 'Age', 'Experience', 'Salary']"
      ]
     },
     "execution_count": 5,
     "metadata": {},
     "output_type": "execute_result"
    }
   ],
   "source": [
    "df.columns"
   ]
  },
  {
   "cell_type": "code",
   "execution_count": null,
   "metadata": {},
   "outputs": [],
   "source": [
    "['Age', 'Experience'] ---- new feature --- independant feature"
   ]
  },
  {
   "cell_type": "code",
   "execution_count": 6,
   "metadata": {},
   "outputs": [],
   "source": [
    "from pyspark.ml.feature import VectorAssembler\n",
    "featureassembler=VectorAssembler(inputCols=['Age', 'Experience'],outputCol=\"Independant Feature\")"
   ]
  },
  {
   "cell_type": "code",
   "execution_count": 7,
   "metadata": {},
   "outputs": [],
   "source": [
    "output=featureassembler.transform(df)"
   ]
  },
  {
   "cell_type": "code",
   "execution_count": 9,
   "metadata": {},
   "outputs": [
    {
     "name": "stdout",
     "output_type": "stream",
     "text": [
      "+-------+---+----------+------+-------------------+\n",
      "|   Name|Age|Experience|Salary|Independant Feature|\n",
      "+-------+---+----------+------+-------------------+\n",
      "|   john| 50|        10| 35000|        [50.0,10.0]|\n",
      "|   sidd| 32|        15| 55000|        [32.0,15.0]|\n",
      "|  vyoma| 65|        20| 65000|        [65.0,20.0]|\n",
      "|    pat| 30|         8|100000|         [30.0,8.0]|\n",
      "|   tina| 22|         9|136562|         [22.0,9.0]|\n",
      "|   noah| 66|        24|158322|        [66.0,24.0]|\n",
      "|wendyam| 33|        10| 25000|        [33.0,10.0]|\n",
      "| solame| 22|        10|158000|        [22.0,10.0]|\n",
      "| esdras| 44|        20| 25651|        [44.0,20.0]|\n",
      "|  elisa| 55|        23|241455|        [55.0,23.0]|\n",
      "+-------+---+----------+------+-------------------+\n",
      "\n"
     ]
    }
   ],
   "source": [
    "output.show()"
   ]
  },
  {
   "cell_type": "code",
   "execution_count": 10,
   "metadata": {},
   "outputs": [
    {
     "name": "stdout",
     "output_type": "stream",
     "text": [
      "+------+-------------------+\n",
      "|Salary|Independant Feature|\n",
      "+------+-------------------+\n",
      "| 35000|        [50.0,10.0]|\n",
      "| 55000|        [32.0,15.0]|\n",
      "| 65000|        [65.0,20.0]|\n",
      "|100000|         [30.0,8.0]|\n",
      "|136562|         [22.0,9.0]|\n",
      "|158322|        [66.0,24.0]|\n",
      "| 25000|        [33.0,10.0]|\n",
      "|158000|        [22.0,10.0]|\n",
      "| 25651|        [44.0,20.0]|\n",
      "|241455|        [55.0,23.0]|\n",
      "+------+-------------------+\n",
      "\n"
     ]
    }
   ],
   "source": [
    "finalized_data=output.select(\"Salary\",\"Independant Feature\")\n",
    "finalized_data.show()"
   ]
  },
  {
   "cell_type": "code",
   "execution_count": 11,
   "metadata": {},
   "outputs": [],
   "source": [
    "from pyspark.ml.regression import LinearRegression\n",
    "train_data,test_data=finalized_data.randomSplit([.75,.25])\n",
    "regressor=LinearRegression(featuresCol='Independant Feature', labelCol='Salary')\n",
    "regressor=regressor.fit(train_data)"
   ]
  },
  {
   "cell_type": "code",
   "execution_count": 12,
   "metadata": {},
   "outputs": [
    {
     "data": {
      "text/plain": [
       "DenseVector([-1581.178, 6728.1143])"
      ]
     },
     "execution_count": 12,
     "metadata": {},
     "output_type": "execute_result"
    }
   ],
   "source": [
    "regressor.coefficients"
   ]
  },
  {
   "cell_type": "code",
   "execution_count": 13,
   "metadata": {},
   "outputs": [],
   "source": [
    "pre_results=regressor.evaluate(test_data)"
   ]
  },
  {
   "cell_type": "code",
   "execution_count": 16,
   "metadata": {},
   "outputs": [
    {
     "name": "stdout",
     "output_type": "stream",
     "text": [
      "+------+-------------------+-----------------+\n",
      "|Salary|Independant Feature|       prediction|\n",
      "+------+-------------------+-----------------+\n",
      "| 35000|        [50.0,10.0]|56359.66441102744|\n",
      "+------+-------------------+-----------------+\n",
      "\n"
     ]
    }
   ],
   "source": [
    "pre_results.predictions.show()"
   ]
  },
  {
   "cell_type": "code",
   "execution_count": 17,
   "metadata": {},
   "outputs": [
    {
     "data": {
      "text/plain": [
       "(21359.664411027443, 456235263.7517123)"
      ]
     },
     "execution_count": 17,
     "metadata": {},
     "output_type": "execute_result"
    }
   ],
   "source": [
    "pre_results.meanAbsoluteError,pre_results.meanSquaredError"
   ]
  },
  {
   "cell_type": "code",
   "execution_count": null,
   "metadata": {},
   "outputs": [],
   "source": []
  },
  {
   "cell_type": "code",
   "execution_count": null,
   "metadata": {},
   "outputs": [],
   "source": []
  },
  {
   "cell_type": "code",
   "execution_count": null,
   "metadata": {},
   "outputs": [],
   "source": []
  },
  {
   "cell_type": "code",
   "execution_count": null,
   "metadata": {},
   "outputs": [],
   "source": []
  },
  {
   "cell_type": "code",
   "execution_count": null,
   "metadata": {},
   "outputs": [],
   "source": []
  },
  {
   "cell_type": "code",
   "execution_count": null,
   "metadata": {},
   "outputs": [],
   "source": []
  }
 ],
 "metadata": {
  "kernelspec": {
   "display_name": ".venv",
   "language": "python",
   "name": "python3"
  },
  "language_info": {
   "codemirror_mode": {
    "name": "ipython",
    "version": 3
   },
   "file_extension": ".py",
   "mimetype": "text/x-python",
   "name": "python",
   "nbconvert_exporter": "python",
   "pygments_lexer": "ipython3",
   "version": "3.12.4"
  }
 },
 "nbformat": 4,
 "nbformat_minor": 2
}
